{
 "cells": [
  {
   "cell_type": "markdown",
   "metadata": {},
   "source": [
    "# Python Questions\n",
    "Question 5 - 6"
   ]
  },
  {
   "cell_type": "code",
   "execution_count": 1,
   "metadata": {},
   "outputs": [],
   "source": [
    "#!/usr/bin/env python\n",
    "import pandas as pd\n",
    "\n",
    "vanorder_path = 'data/vanorder.csv'\n",
    "vaninterest_path = 'data/vaninterest.csv'\n",
    "\n",
    "vanorder = pd.read_csv(vanorder_path, parse_dates=['order_datetime', 'txCreate'])\n",
    "vaninterest = pd.read_csv(vaninterest_path, parse_dates=['txCreate'])"
   ]
  },
  {
   "cell_type": "code",
   "execution_count": 2,
   "metadata": {},
   "outputs": [
    {
     "data": {
      "text/plain": [
       "idvanOrder                      int64\n",
       "order_status                    int64\n",
       "order_subset                   object\n",
       "requestor_client_id             int64\n",
       "servicer_auth                 float64\n",
       "total_price                     int64\n",
       "order_datetime         datetime64[ns]\n",
       "txCreate               datetime64[ns]\n",
       "dtype: object"
      ]
     },
     "execution_count": 2,
     "metadata": {},
     "output_type": "execute_result"
    }
   ],
   "source": [
    "vanorder.dtypes"
   ]
  },
  {
   "cell_type": "markdown",
   "metadata": {},
   "source": [
    "# Question 5\n",
    "### What is the order fulfillment rate, i.e. percentage of orders that was completed, based on order time?\n",
    "\n",
    "See the rate of [order_status = 2] for orders completed."
   ]
  },
  {
   "cell_type": "code",
   "execution_count": 3,
   "metadata": {
    "scrolled": false
   },
   "outputs": [
    {
     "data": {
      "text/plain": [
       "order_datetime  order_status\n",
       "4               2               1.000000\n",
       "7               2               1.000000\n",
       "8               2               1.000000\n",
       "9               2               0.800000\n",
       "                3               0.200000\n",
       "10              2               0.954545\n",
       "                3               0.045455\n",
       "11              2               0.965517\n",
       "                3               0.034483\n",
       "12              2               0.965517\n",
       "                5               0.034483\n",
       "13              2               1.000000\n",
       "14              2               1.000000\n",
       "15              2               0.900000\n",
       "                3               0.100000\n",
       "16              2               0.857143\n",
       "                3               0.142857\n",
       "17              2               0.958333\n",
       "                3               0.041667\n",
       "18              2               1.000000\n",
       "19              2               0.928571\n",
       "                3               0.071429\n",
       "20              2               0.909091\n",
       "                3               0.090909\n",
       "21              2               1.000000\n",
       "22              2               0.666667\n",
       "                3               0.333333\n",
       "Name: order_status, dtype: float64"
      ]
     },
     "execution_count": 3,
     "metadata": {},
     "output_type": "execute_result"
    }
   ],
   "source": [
    "vanorder.groupby(vanorder.order_datetime.dt.hour)['order_status'].value_counts(normalize=True)"
   ]
  },
  {
   "cell_type": "markdown",
   "metadata": {},
   "source": [
    "# Question 6\n",
    "only considering order subset A >>> vaninterest.order_subset_assigned = 'A'\n",
    "\n",
    "## Match time :\n",
    "The taken time from user placing the order (txCreate in vanorder), to the driver accepting the order (txCreate in vaninterst)\n",
    "\n",
    "= vaninterst.txCreate - vanorder.txCreate"
   ]
  },
  {
   "cell_type": "code",
   "execution_count": 4,
   "metadata": {},
   "outputs": [
    {
     "data": {
      "text/html": [
       "<div>\n",
       "<style scoped>\n",
       "    .dataframe tbody tr th:only-of-type {\n",
       "        vertical-align: middle;\n",
       "    }\n",
       "\n",
       "    .dataframe tbody tr th {\n",
       "        vertical-align: top;\n",
       "    }\n",
       "\n",
       "    .dataframe thead th {\n",
       "        text-align: right;\n",
       "    }\n",
       "</style>\n",
       "<table border=\"1\" class=\"dataframe\">\n",
       "  <thead>\n",
       "    <tr style=\"text-align: right;\">\n",
       "      <th></th>\n",
       "      <th>idvanOrder</th>\n",
       "      <th>placed_time</th>\n",
       "      <th>accepted_time</th>\n",
       "      <th>order_datetime</th>\n",
       "      <th>match_time</th>\n",
       "    </tr>\n",
       "  </thead>\n",
       "  <tbody>\n",
       "    <tr>\n",
       "      <th>0</th>\n",
       "      <td>1</td>\n",
       "      <td>2017-04-18 00:46:44</td>\n",
       "      <td>2017-04-18 05:06:00</td>\n",
       "      <td>2017-04-18 15:30:00</td>\n",
       "      <td>04:19:16</td>\n",
       "    </tr>\n",
       "    <tr>\n",
       "      <th>1</th>\n",
       "      <td>2</td>\n",
       "      <td>2017-04-18 06:42:40</td>\n",
       "      <td>2017-04-18 06:43:00</td>\n",
       "      <td>2017-04-18 07:10:00</td>\n",
       "      <td>00:00:20</td>\n",
       "    </tr>\n",
       "    <tr>\n",
       "      <th>2</th>\n",
       "      <td>3</td>\n",
       "      <td>2017-04-18 06:44:09</td>\n",
       "      <td>2017-04-18 06:59:00</td>\n",
       "      <td>2017-04-18 07:10:00</td>\n",
       "      <td>00:14:51</td>\n",
       "    </tr>\n",
       "    <tr>\n",
       "      <th>3</th>\n",
       "      <td>5</td>\n",
       "      <td>2017-04-18 07:27:42</td>\n",
       "      <td>2017-04-18 07:32:00</td>\n",
       "      <td>2017-04-18 09:00:00</td>\n",
       "      <td>00:04:18</td>\n",
       "    </tr>\n",
       "    <tr>\n",
       "      <th>4</th>\n",
       "      <td>6</td>\n",
       "      <td>2017-04-18 07:43:05</td>\n",
       "      <td>2017-04-18 07:45:00</td>\n",
       "      <td>2017-04-18 08:30:00</td>\n",
       "      <td>00:01:55</td>\n",
       "    </tr>\n",
       "    <tr>\n",
       "      <th>5</th>\n",
       "      <td>7</td>\n",
       "      <td>2017-04-18 08:11:40</td>\n",
       "      <td>2017-04-18 08:12:00</td>\n",
       "      <td>2017-04-18 08:40:00</td>\n",
       "      <td>00:00:20</td>\n",
       "    </tr>\n",
       "    <tr>\n",
       "      <th>6</th>\n",
       "      <td>8</td>\n",
       "      <td>2017-04-18 08:29:50</td>\n",
       "      <td>2017-04-18 08:30:00</td>\n",
       "      <td>2017-04-18 09:20:00</td>\n",
       "      <td>00:00:10</td>\n",
       "    </tr>\n",
       "    <tr>\n",
       "      <th>7</th>\n",
       "      <td>9</td>\n",
       "      <td>2017-04-18 08:43:59</td>\n",
       "      <td>2017-04-18 08:45:00</td>\n",
       "      <td>2017-04-18 09:30:00</td>\n",
       "      <td>00:01:01</td>\n",
       "    </tr>\n",
       "    <tr>\n",
       "      <th>8</th>\n",
       "      <td>12</td>\n",
       "      <td>2017-04-18 09:31:06</td>\n",
       "      <td>2017-04-18 09:31:00</td>\n",
       "      <td>2017-04-18 10:20:00</td>\n",
       "      <td>00:00:06</td>\n",
       "    </tr>\n",
       "    <tr>\n",
       "      <th>9</th>\n",
       "      <td>13</td>\n",
       "      <td>2017-04-18 09:32:05</td>\n",
       "      <td>2017-04-18 09:33:00</td>\n",
       "      <td>2017-04-18 10:20:00</td>\n",
       "      <td>00:00:55</td>\n",
       "    </tr>\n",
       "  </tbody>\n",
       "</table>\n",
       "</div>"
      ],
      "text/plain": [
       "   idvanOrder         placed_time       accepted_time      order_datetime  \\\n",
       "0           1 2017-04-18 00:46:44 2017-04-18 05:06:00 2017-04-18 15:30:00   \n",
       "1           2 2017-04-18 06:42:40 2017-04-18 06:43:00 2017-04-18 07:10:00   \n",
       "2           3 2017-04-18 06:44:09 2017-04-18 06:59:00 2017-04-18 07:10:00   \n",
       "3           5 2017-04-18 07:27:42 2017-04-18 07:32:00 2017-04-18 09:00:00   \n",
       "4           6 2017-04-18 07:43:05 2017-04-18 07:45:00 2017-04-18 08:30:00   \n",
       "5           7 2017-04-18 08:11:40 2017-04-18 08:12:00 2017-04-18 08:40:00   \n",
       "6           8 2017-04-18 08:29:50 2017-04-18 08:30:00 2017-04-18 09:20:00   \n",
       "7           9 2017-04-18 08:43:59 2017-04-18 08:45:00 2017-04-18 09:30:00   \n",
       "8          12 2017-04-18 09:31:06 2017-04-18 09:31:00 2017-04-18 10:20:00   \n",
       "9          13 2017-04-18 09:32:05 2017-04-18 09:33:00 2017-04-18 10:20:00   \n",
       "\n",
       "  match_time  \n",
       "0   04:19:16  \n",
       "1   00:00:20  \n",
       "2   00:14:51  \n",
       "3   00:04:18  \n",
       "4   00:01:55  \n",
       "5   00:00:20  \n",
       "6   00:00:10  \n",
       "7   00:01:01  \n",
       "8   00:00:06  \n",
       "9   00:00:55  "
      ]
     },
     "execution_count": 4,
     "metadata": {},
     "output_type": "execute_result"
    }
   ],
   "source": [
    "A = vaninterest[['idvanOrder', 'order_subset_assigned', 'servicer_auth', 'txCreate']].copy()\n",
    "A = A[A.order_subset_assigned == 'A']\n",
    "A.rename(columns={'txCreate' : 'accepted_time'}, inplace=True)\n",
    "A = pd.merge(A,vanorder[['idvanOrder', 'servicer_auth', 'txCreate', 'order_datetime']], on=['idvanOrder', 'servicer_auth'])\n",
    "A.rename(columns={'txCreate' : 'placed_time'}, inplace=True)\n",
    "A = A.drop(columns=['order_subset_assigned','servicer_auth'])\n",
    "A['match_time']= abs((A['accepted_time'] - A['placed_time']))\n",
    "A = A[['idvanOrder', 'placed_time', 'accepted_time', 'order_datetime', 'match_time']]\n",
    "A.head(10)"
   ]
  },
  {
   "cell_type": "markdown",
   "metadata": {},
   "source": [
    "For some data, order placed time by the clients is later than the order accepted time by drivers. It is not reasonable to happen. It may indicate some errors caused during data collection."
   ]
  },
  {
   "cell_type": "markdown",
   "metadata": {},
   "source": [
    "### (a) What is the average match time, by immediate/advanced orders? Immediate orders are defined as orders with order time within 60 minutes(inclusive) of placed time."
   ]
  },
  {
   "cell_type": "code",
   "execution_count": 5,
   "metadata": {},
   "outputs": [
    {
     "data": {
      "text/plain": [
       "idvanOrder                    145.596\n",
       "match_time     0 days 00:00:55.828947\n",
       "placed_hour                    13.864\n",
       "dtype: object"
      ]
     },
     "execution_count": 5,
     "metadata": {},
     "output_type": "execute_result"
    }
   ],
   "source": [
    "A['placed_hour'] = A.placed_time.dt.hour\n",
    "imm = A.loc[(A['order_datetime'] - A['placed_time'])<=pd.Timedelta('60 minutes')]\n",
    "imm.mean()"
   ]
  },
  {
   "cell_type": "code",
   "execution_count": 6,
   "metadata": {
    "scrolled": true
   },
   "outputs": [
    {
     "data": {
      "text/plain": [
       "idvanOrder                      161.5\n",
       "match_time     0 days 00:12:45.571428\n",
       "placed_hour                   14.6429\n",
       "dtype: object"
      ]
     },
     "execution_count": 6,
     "metadata": {},
     "output_type": "execute_result"
    }
   ],
   "source": [
    "adv = A.loc[(A['order_datetime'] - A['placed_time'])>pd.Timedelta('60 minutes')]\n",
    "adv.mean()"
   ]
  },
  {
   "cell_type": "markdown",
   "metadata": {},
   "source": [
    "Match time mean of immediate orders: 55 seconds\n",
    "\n",
    "Match time mean of advanced orders: 12 minutes 45 seconds"
   ]
  },
  {
   "cell_type": "markdown",
   "metadata": {},
   "source": [
    "### (b) What is the median match time, again by immediate/advanced?"
   ]
  },
  {
   "cell_type": "code",
   "execution_count": 7,
   "metadata": {
    "scrolled": true
   },
   "outputs": [
    {
     "data": {
      "text/plain": [
       "idvanOrder               140.5\n",
       "match_time     0 days 00:00:23\n",
       "placed_hour               13.5\n",
       "dtype: object"
      ]
     },
     "execution_count": 7,
     "metadata": {},
     "output_type": "execute_result"
    }
   ],
   "source": [
    "imm.median()"
   ]
  },
  {
   "cell_type": "code",
   "execution_count": 8,
   "metadata": {},
   "outputs": [
    {
     "data": {
      "text/plain": [
       "idvanOrder               172.5\n",
       "match_time     0 days 00:00:38\n",
       "placed_hour                 15\n",
       "dtype: object"
      ]
     },
     "execution_count": 8,
     "metadata": {},
     "output_type": "execute_result"
    }
   ],
   "source": [
    "adv.median()"
   ]
  },
  {
   "cell_type": "markdown",
   "metadata": {},
   "source": [
    "Match time median of immediate orders: 23 seconds\n",
    "\n",
    "Match time median of advanced orders: 38 seconds"
   ]
  },
  {
   "cell_type": "code",
   "execution_count": 9,
   "metadata": {},
   "outputs": [
    {
     "data": {
      "text/plain": [
       "idvanOrder                    82.7548\n",
       "match_time     0 days 00:02:19.282496\n",
       "placed_hour                   3.15446\n",
       "dtype: object"
      ]
     },
     "execution_count": 9,
     "metadata": {},
     "output_type": "execute_result"
    }
   ],
   "source": [
    "imm.std()"
   ]
  },
  {
   "cell_type": "code",
   "execution_count": 10,
   "metadata": {},
   "outputs": [
    {
     "data": {
      "text/plain": [
       "idvanOrder                    102.036\n",
       "match_time     0 days 00:40:51.889914\n",
       "placed_hour                   4.76686\n",
       "dtype: object"
      ]
     },
     "execution_count": 10,
     "metadata": {},
     "output_type": "execute_result"
    }
   ],
   "source": [
    "adv.std()"
   ]
  },
  {
   "cell_type": "markdown",
   "metadata": {},
   "source": [
    "### (c) Which of the above one do you think provides a better representation the data, i.e. a better metric for tracking our performance in matching?\n",
    "\n",
    "Medians of both immediate and advanced data are smaller than means, and it seems mean is a better metric for tracking performance in matching. The reason is shown below."
   ]
  },
  {
   "cell_type": "markdown",
   "metadata": {},
   "source": [
    "# Codes for Q.7,8"
   ]
  },
  {
   "cell_type": "code",
   "execution_count": 16,
   "metadata": {},
   "outputs": [
    {
     "data": {
      "image/png": "[encoded data removed]",
      "text/plain": [
       "<Figure size 432x288 with 2 Axes>"
      ]
     },
     "metadata": {
      "needs_background": "light"
     },
     "output_type": "display_data"
    }
   ],
   "source": [
    "import matplotlib.pyplot as plt\n",
    "\n",
    "fig1, ax1 = plt.subplots()\n",
    "\n",
    "color = 'tab:red'\n",
    "ax1.set_xlabel('Hour')\n",
    "ax1.set_ylabel('Match Time',color=color)\n",
    "ax1.plot(imm.groupby('placed_hour')['match_time'].mean(numeric_only=False),color=color)\n",
    "ax1.tick_params(axis='y',labelcolor=color)\n",
    "\n",
    "ax2 = ax1.twinx()\n",
    "\n",
    "color = 'tab:blue'\n",
    "ax2.set_ylabel('No. of orders',color=color)\n",
    "ax2.plot(imm['placed_hour'].value_counts().sort_index(),color=color)\n",
    "ax2.tick_params(axis='y', labelcolor=color)\n",
    "\n",
    "plt.title('Immediate Orders')\n",
    "fig1.tight_layout()\n",
    "plt.show()"
   ]
  },
  {
   "cell_type": "code",
   "execution_count": 12,
   "metadata": {},
   "outputs": [
    {
     "data": {
      "image/png": "[encoded data removed]",
      "text/plain": [
       "<Figure size 432x288 with 2 Axes>"
      ]
     },
     "metadata": {
      "needs_background": "light"
     },
     "output_type": "display_data"
    }
   ],
   "source": [
    "adv = adv.drop([0])\n",
    "fig2, ax1 = plt.subplots()\n",
    "\n",
    "color = 'tab:red'\n",
    "ax1.set_xlabel('Hour')\n",
    "ax1.set_ylabel('Match Time',color=color)\n",
    "ax1.plot(adv.groupby('placed_hour')['match_time'].mean(numeric_only=False),color=color)\n",
    "ax1.tick_params(axis='y',labelcolor=color)\n",
    "\n",
    "ax2 = ax1.twinx()\n",
    "\n",
    "color = 'tab:blue'\n",
    "ax2.set_ylabel('No. of orders',color=color)\n",
    "ax2.plot(adv['placed_hour'].value_counts().sort_index(),color=color)\n",
    "ax2.tick_params(axis='y', labelcolor=color)\n",
    "\n",
    "plt.title('Advanced Orders')\n",
    "fig2.tight_layout()\n",
    "plt.show()"
   ]
  },
  {
   "cell_type": "markdown",
   "metadata": {},
   "source": [
    "These two graphs show that for immediate orders, number of orders are significantly higher for shorter match time while match time for advanced orders at time with higher number of orders is greater. Therefore, it seems the means are better estimations.\n",
    "These graphs also can be a great suggestion for the operation team so that they can find the way to reduce the match time at where many advanced orders are made."
   ]
  },
  {
   "cell_type": "code",
   "execution_count": 13,
   "metadata": {},
   "outputs": [
    {
     "data": {
      "image/png": "[encoded data removed]",
      "text/plain": [
       "<Figure size 432x288 with 2 Axes>"
      ]
     },
     "metadata": {
      "needs_background": "light"
     },
     "output_type": "display_data"
    }
   ],
   "source": [
    "A = A.drop([0])\n",
    "fig, ax1 = plt.subplots()\n",
    "\n",
    "color = 'tab:red'\n",
    "ax1.set_xlabel('Hour')\n",
    "ax1.set_ylabel('Match Time',color=color)\n",
    "ax1.plot(A.groupby('placed_hour')['match_time'].mean(numeric_only=False),color=color)\n",
    "ax1.tick_params(axis='y',labelcolor=color)\n",
    "\n",
    "ax2 = ax1.twinx()\n",
    "\n",
    "color = 'tab:blue'\n",
    "ax2.set_ylabel('No. of orders',color=color)\n",
    "ax2.plot(A['placed_hour'].value_counts().sort_index(),color=color)\n",
    "ax2.tick_params(axis='y', labelcolor=color)\n",
    "\n",
    "plt.title('Match Time & No. of Orders')\n",
    "fig2.tight_layout()\n",
    "plt.show()"
   ]
  },
  {
   "cell_type": "code",
   "execution_count": 14,
   "metadata": {},
   "outputs": [
    {
     "data": {
      "text/html": [
       "<div>\n",
       "<style scoped>\n",
       "    .dataframe tbody tr th:only-of-type {\n",
       "        vertical-align: middle;\n",
       "    }\n",
       "\n",
       "    .dataframe tbody tr th {\n",
       "        vertical-align: top;\n",
       "    }\n",
       "\n",
       "    .dataframe thead th {\n",
       "        text-align: right;\n",
       "    }\n",
       "</style>\n",
       "<table border=\"1\" class=\"dataframe\">\n",
       "  <thead>\n",
       "    <tr style=\"text-align: right;\">\n",
       "      <th></th>\n",
       "      <th>money</th>\n",
       "      <th>order_count</th>\n",
       "    </tr>\n",
       "  </thead>\n",
       "  <tbody>\n",
       "    <tr>\n",
       "      <th>0</th>\n",
       "      <td>48</td>\n",
       "      <td>8</td>\n",
       "    </tr>\n",
       "    <tr>\n",
       "      <th>1</th>\n",
       "      <td>125</td>\n",
       "      <td>5</td>\n",
       "    </tr>\n",
       "    <tr>\n",
       "      <th>2</th>\n",
       "      <td>14</td>\n",
       "      <td>5</td>\n",
       "    </tr>\n",
       "    <tr>\n",
       "      <th>3</th>\n",
       "      <td>199</td>\n",
       "      <td>4</td>\n",
       "    </tr>\n",
       "    <tr>\n",
       "      <th>4</th>\n",
       "      <td>160</td>\n",
       "      <td>4</td>\n",
       "    </tr>\n",
       "  </tbody>\n",
       "</table>\n",
       "</div>"
      ],
      "text/plain": [
       "   money  order_count\n",
       "0     48            8\n",
       "1    125            5\n",
       "2     14            5\n",
       "3    199            4\n",
       "4    160            4"
      ]
     },
     "execution_count": 14,
     "metadata": {},
     "output_type": "execute_result"
    }
   ],
   "source": [
    "B = vanorder[vanorder['order_status']==2]\n",
    "B = B['requestor_client_id'].value_counts().reset_index()\n",
    "B.columns = ['money','order_count']\n",
    "B.head()"
   ]
  },
  {
   "cell_type": "code",
   "execution_count": 15,
   "metadata": {},
   "outputs": [
    {
     "data": {
      "image/png": "[encoded data removed]",
      "text/plain": [
       "<Figure size 432x288 with 2 Axes>"
      ]
     },
     "metadata": {
      "needs_background": "light"
     },
     "output_type": "display_data"
    }
   ],
   "source": [
    "C = B.groupby('order_count').mean()['money'].reset_index()\n",
    "\n",
    "spent, ax1 = plt.subplots()\n",
    "\n",
    "color = 'tab:red'\n",
    "ax1.set_xlabel('No. of Orders made')\n",
    "ax1.set_ylabel('Average Spent Money',color=color)\n",
    "ax1.bar(C['order_count'],C.groupby('order_count').mean()['money'], color=color)\n",
    "ax1.tick_params(axis='y',labelcolor=color)\n",
    "\n",
    "ax2 = ax1.twinx()\n",
    "\n",
    "color = 'tab:blue'\n",
    "ax2.set_ylabel('No. of Clients',color=color)\n",
    "ax2.plot(B['order_count'].value_counts())\n",
    "ax2.tick_params(axis='y', labelcolor=color)\n",
    "\n",
    "plt.title('Spent money VS No. of Orders made')\n",
    "spent.tight_layout()\n",
    "plt.show()"
   ]
  }
 ],
 "metadata": {
  "kernelspec": {
   "display_name": "Python 3",
   "language": "python",
   "name": "python3"
  },
  "language_info": {
   "codemirror_mode": {
    "name": "ipython",
    "version": 3
   },
   "file_extension": ".py",
   "mimetype": "text/x-python",
   "name": "python",
   "nbconvert_exporter": "python",
   "pygments_lexer": "ipython3",
   "version": "3.6.4"
  }
 },
 "nbformat": 4,
 "nbformat_minor": 2
}
